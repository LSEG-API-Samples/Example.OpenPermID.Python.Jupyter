{
 "cells": [
  {
   "cell_type": "markdown",
   "metadata": {},
   "source": [
    "# Python: Open PermID APIs\n",
    "\n",
    "## Overview\n",
    "\n",
    "This example demonstrates how to use a Python Open PermID library. The library covers all features of Open PermID APIs including Record Matching, Entity Search, and Intelligent Tagging. \n",
    "\n",
    "PermID is a shortening of “Permanent Identifier” which is a machine-readable number assigned to entities, securities, organizations (companies, government agencies, universities, etc.), quotes, individuals, and more. It is specifically designed for use by machines to reference related information programmatically. Open PermID is publicly available for free at [https://permid.org/](https://permid.org/).\n",
    "\n",
    "The Python OpenPermID is available on [pypi.org](https://pypi.org/project/OpenPermID/). It can be installed via the following **pip** command.\n",
    "\n",
    "```\n",
    "pip install OpenPermID\n",
    "```\n",
    "To use the Python OpenPermID, the application needs to create an OpenPermID object and set an access token to it. The access token can be retrieved after login to the [Open PermID](https://permid.org/) website."
   ]
  },
  {
   "cell_type": "code",
   "execution_count": null,
   "metadata": {},
   "outputs": [],
   "source": [
    "from OpenPermID import OpenPermID\n",
    "\n",
    "opid = OpenPermID()\n",
    "opid.set_access_token(\"<ACCESS TOKEN>\")"
   ]
  },
  {
   "cell_type": "markdown",
   "metadata": {},
   "source": [
    "## 1. Entity Search\n",
    "\n",
    "This function is used to search an entity's PermID value from a string. \n",
    "```\n",
    "serach(q, entityType='all', format=\"dataframe\", start=1, num=5, order='rel')\n",
    "```\n",
    "|Parameter Name|Required|Description|\n",
    "|--------------|--------|-----------|\n",
    "|q|Yes|A query string to search for. It could be either just the search string value, or prefix it with \"<fieldname>:\" to constrain the search to a specific field, such as \"**LSEG**\", \"**ticker:IBM**\", and \"**ticker: msft AND exchange:NSM**\". For a list of all available fields, please refer to the [PermID User guide](https://developers.lseg.com/en/api-catalog/open-perm-id/permid-entity-search/documentation/manuals-and-guides).|\n",
    "|entityType|No|The type of entity to search for. Possible values are **all**, **organization**, **instrument**, or **quote**. The default value is **all**|\n",
    "|format|No|The format of the output. Possible values are **dataframe**, **json**, or **xml**. The default value is **dataframe**|\n",
    "|start|No|The index of the first result returned, in the list of results ordered according to the order parameter. The index is 1-based. The default value is 1.|\n",
    "|num|No|The maximum number of results returned for each entity (separately). Possible values are 5, 10, 20, 50, and 100. The default value is 5.|\n",
    "|order|No|The order of the search results. Possible values are **rel** (Descending order of relevance), **az** (Ascending alphabetical order of the entity name), or **za** ( Descending alphabetical order of the entity name). The default value is **rel**.|\n",
    "\n",
    "This function returns a tuple containing a result and error string. When the **entityType** is **all** and the **format** is **dataframe**, it returns multiple data frames indexed by the entity types (**quotes**, **organizations**, and **instruments**). For other entity types with the **dataframe** format, it returns a data frame. The result could be a data frame, JSON, or XML string depending on the **format** parameter. \n",
    "\n",
    "The following code calls the **search** method to search for a \"LSEG\" string with the default parameters.\n"
   ]
  },
  {
   "cell_type": "code",
   "execution_count": null,
   "metadata": {},
   "outputs": [],
   "source": [
    "output,err = opid.search('LSEG')"
   ]
  },
  {
   "cell_type": "markdown",
   "metadata": {},
   "source": [
    "### Display the organizations' entities"
   ]
  },
  {
   "cell_type": "code",
   "execution_count": null,
   "metadata": {},
   "outputs": [],
   "source": [
    "output['organizations']"
   ]
  },
  {
   "cell_type": "markdown",
   "metadata": {},
   "source": [
    "### Display the instruments' entities"
   ]
  },
  {
   "cell_type": "code",
   "execution_count": null,
   "metadata": {},
   "outputs": [],
   "source": [
    "output['instruments']"
   ]
  },
  {
   "cell_type": "markdown",
   "metadata": {},
   "source": [
    "### Display the quotes' entities"
   ]
  },
  {
   "cell_type": "code",
   "execution_count": null,
   "metadata": {},
   "outputs": [],
   "source": [
    "output['quotes']"
   ]
  },
  {
   "cell_type": "markdown",
   "metadata": {},
   "source": [
    "## 2. Entity Lookup\n",
    "\n",
    "If you know a PermID of an entity, you can use the **lookup** method to retrieve the entity description. \n",
    "\n",
    "It accepts three parameters:\n",
    "\n",
    "|Parameter Name|Required|Description|\n",
    "|--------------|--------|-----------|\n",
    "|id|Yes|The PermID used to lookup e.g. 1-5064690523|\n",
    "|format|No|The format of the output. Possible values are **dataframe**, **json-ld**, or **turtle**. The default value is **dataframe**|\n",
    "|orient|No|The format of the returned data frame. Possible values are **row**, or **column**. The default value is **row**|\n",
    "\n",
    "This function returns a tuple containing a result and error string. The result could be a data frame, JSON, or turtle string depending on the **format** parameter.\n",
    "\n",
    "The following code calls the **lookup** method to retrieve the entity information of the 1-5064690523 PermID with the **column** orient parameter."
   ]
  },
  {
   "cell_type": "code",
   "execution_count": null,
   "metadata": {},
   "outputs": [],
   "source": [
    "output,err = opid.lookup(\"1-4298007752\", orient=\"column\")\n",
    "output"
   ]
  },
  {
   "cell_type": "markdown",
   "metadata": {},
   "source": [
    "## 3. Record Matching\n",
    "\n",
    "The PermID Record Matching API allows you to match entity Person, Organization, Instrument,\n",
    "and Quote records with LSEG’ PermIDs. \n",
    "\n",
    "\n",
    "```Python\n",
    "match(data,dataType='Organization',numberOfMatchesPerRecord=1,raw_output=False)\n",
    "```\n",
    "|Parameter Name|Required|Description|\n",
    "|--------------|--------|-----------|\n",
    "|data|Yes|A CSV string or data frame for matching. For formats of the CSV string, please refer to the [PermID User guide](https://developers.lseg.com/en/api-catalog/open-perm-id/permid-entity-search/documentation/manuals-and-guides).|\n",
    "|dataType|No|The type of entity to search for. Possible values are **Person**, **Organization**, **Instrument**, or **Quote**. The default value is **Organization**.|\n",
    "|numberOfMatchesPerRecord|No|A number of possible matches to output for each record in the input. The maximum number of possible matches is 5. The default value is 1.|\n",
    "|raw_output|No|A boolean value set to retrieve a result as a JSON string instead of a data frame. The default value is False which returns a data frame.|\n",
    "\n",
    "This function returns a tuple containing a result and error string. The result could be a data frame, or JSON string depending on the **raw_output** parameter.\n",
    "\n",
    "The following code calls the **match** method to match the organization entities with a CSV string."
   ]
  },
  {
   "cell_type": "code",
   "execution_count": null,
   "metadata": {},
   "outputs": [],
   "source": [
    "organization=\"\"\"\n",
    "LocalID,Standard Identifier,Name,Country,Street,City,PostalCode,State,Website\n",
    "1,,Apple,US,\"Apple Campus, 1 Infinite Loop\",Cupertino,95014,California,\n",
    "2,,Apple,,,,,,\n",
    "3,,Teva Pharmaceutical Industries Ltd,IL,,Petah Tikva,,,\n",
    "4,,Tata Sky,IN,,,,,\n",
    "5,RIC:IBM.N|Ticker:IBM,,,,,,,\n",
    "6,Ticker:MSFT,,,,,,,\n",
    "7,LEI:INR2EJN1ERAN0W5ZP974,,,,,,,\n",
    "8,Ticker:FB&&Exchange:NSM,,,,,,,\n",
    "9,Ticker:AAPL&&MIC:XNGS,,,,,,,\n",
    "\"\"\"\n",
    "output,err = opid.match(organization)\n",
    "output"
   ]
  },
  {
   "cell_type": "markdown",
   "metadata": {},
   "source": [
    "The following code calls the **match** method to match the person entities with a data frame."
   ]
  },
  {
   "cell_type": "code",
   "execution_count": null,
   "metadata": {},
   "outputs": [],
   "source": [
    "import pandas as pd\n",
    "person = pd.DataFrame(columns = ['LocalID',\n",
    "                                 'FirstName',\n",
    "                                 'MiddleName',\n",
    "                                 'PreferredName',\n",
    "                                 'LastName',\n",
    "                                 'CompanyPermID',\n",
    "                                 'CompanyName',\n",
    "                                 'NamePrefix',\n",
    "                                 'NameSuffix']) \n",
    "person = person.append(pd.Series(['1','Satya','','','Nadella','','Microsoft Corp','',''], \n",
    "                                 index=person.columns),ignore_index=True)\n",
    "person = person.append(pd.Series(['2','Satya','','','Nadella','4295907168','','',''], \n",
    "                                 index=person.columns),ignore_index=True)\n",
    "person = person.append(pd.Series(['3','Martin','','','Jetter','','International Business Machines Corp','',''], \n",
    "                                 index=person.columns),ignore_index=True)\n",
    "person = person.append(pd.Series(['4','Bill','','','Gates','','Microsoft Corp','',''], \n",
    "                                 index=person.columns),ignore_index=True)\n",
    "output,err = opid.match(person, dataType='Person')\n",
    "output"
   ]
  },
  {
   "cell_type": "markdown",
   "metadata": {},
   "source": [
    "## 4. Record Matching File\n",
    "\n",
    "This method is similar to the above **match** method. It is used to match the entity Person, Organization, Instrument, and Quote records with LSEG’s PermIDs. However, instead of passing a string or data frame, it accepts a file name that contains records to be matched.\n",
    "\n",
    "```Python\n",
    "matchFile(filename,dataType='Organization',numberOfMatchesPerRecord=1,raw_output=False)\n",
    "```\n",
    "\n",
    "|Parameter Name|Required|Description|\n",
    "|--------------|--------|-----------|\n",
    "|filename|Yes|A filename of the CSV file containing records to be matched. Templates for the CSV files can be downloaded at the [Record Matching](https://permid.org/match) website.|\n",
    "|dataType|No|The type of entity to search for. Possible values are **Person**, **Organization**, **Instrument**, or **Quote**. The default value is **Organization**.|\n",
    "|numberOfMatchesPerRecord|No|A number of possible matches to output for each record in the input. The maximum number of possible matches is 5. The default value is 1.|\n",
    "|raw_output|No|A boolean value set to retrieve a result as a JSON string instead of a data frame. The default value is False which returns a data frame.|\n",
    "\n",
    "This function returns a tuple containing a result and error string. The result could be a data frame or JSON string depending on the **raw_output** parameter.\n",
    "\n",
    "The following code calls the **matchFile** method to match records in an organization CSV file."
   ]
  },
  {
   "cell_type": "code",
   "execution_count": null,
   "metadata": {},
   "outputs": [],
   "source": [
    "output,err = opid.matchFile(\"Organization_input.csv\")\n",
    "output"
   ]
  },
  {
   "cell_type": "markdown",
   "metadata": {},
   "source": [
    "## 5. Intelligent Tagging\n",
    "\n",
    "This method allows you to tag free-text documents with rich semantic metadata, by identifying and tagging entities, events, and topics.\n",
    "```\n",
    "calais(text, language='English', contentType='raw', outputFormat='json')\n",
    "```\n",
    "|Parameter Name|Required|Description|\n",
    "|--------------|--------|-----------|\n",
    "|text|Yes|Content to be tagged. It could be raw text, html, xml, or pdf|\n",
    "|language|No|Indicates the language of the input text. Currently, possible values are **English**, **Chinese**, **French**, **German**, **Japanese**, or **Spanish**. The default value is **English**.|\n",
    "|contentType|No|Indicates the content type of the input text. Possible values are **raw**, **html**, **xml**, or **pdf**. The default value is **raw**.|\n",
    "|outputFormat|No|Defines the output response format. Possible values are **json**, **rdf**, or **n3**. The default value is **json**.|\n",
    "\n",
    "This function returns a tuple containing a result and error string. The result could be a JSON, RDF or N-Triples string depending on the **outputFormat** parameter.\n",
    "\n",
    "The following code calls the **calais** method to tag the raw text."
   ]
  },
  {
   "cell_type": "code",
   "execution_count": null,
   "metadata": {},
   "outputs": [],
   "source": [
    "raw_text =\"\"\"\n",
    "TOKYO (Reuters) - Financial markets reeled on Thursday as stocks dived and oil slumped after U.S. President Donald Trump took the dramatic step of banning travel from Europe to stem the spread of coronavirus, threatening more disruptions to trade and the world economy.\n",
    "\n",
    "With the pandemic wreaking havoc on daily life of millions worldwide, investors were also disappointed by the lack of broad measures in Trump's plan to fight the pathogen, prompting traders to bet of further aggressive easing by the Federal Reserve.\n",
    "\n",
    "Euro Stoxx 50 futures STXEc1 plunged 8.3% to their lowest levels since mid-2016. They were last down 6.9% while investors rushed to safe-haven assets from bonds to gold to the yen and the Swiss franc.\n",
    "\n",
    "U.S. S&P 500 futures ESc1 plummeted as much as 4.9% in Asia and last traded down 3.6%, a day after the S&P 500 .SPX lost 4.89%, leaving the index on the brink of entering bear market territory, defined as a 20% fall from a recent top.\n",
    "\n",
    "MSCI's broadest gauge of world shares, ACWI .MIWD00000PUS, could follow suit, having fallen 19.2% so far from its record peak hit only a month ago.\n",
    "\"\"\"\n",
    "output,err = opid.calais(raw_text)\n",
    "print(output)"
   ]
  },
  {
   "cell_type": "markdown",
   "metadata": {},
   "source": [
    "## 6. Quota\n",
    "\n",
    "Open PermID APIs have a daily quota limit. There is no API used to get quota information. However, the quota information is available in the HTTP's headers of response messages.\n",
    "```\n",
    "   x-permid-quota-daily: 5000\n",
    "   x-permid-quota-used: 18\n",
    "```\n",
    "This library records this quota information and users can retrieve it by calling the following method.\n",
    "```\n",
    "get_usage()\n",
    "```\n",
    "This method returns a data frame contains the quota information recorded by this library."
   ]
  },
  {
   "cell_type": "code",
   "execution_count": null,
   "metadata": {},
   "outputs": [],
   "source": [
    "opid.get_usage()"
   ]
  },
  {
   "cell_type": "markdown",
   "metadata": {},
   "source": [
    "## Summary\n",
    "\n",
    "Open PermID provides REST APIs to look up, search, match, and tag PermID entities. This example demonstrates how to use a Python Open PermID library. To use this library, you need to have an access token which is freely available when registering at the [PermID](https://permid.org/) website. The library is  easy to use and the source code is available in [GitHub](https://github.com/LSEG-API-Samples/Article.OpenPermID.Python.APIs).\n",
    "\n"
   ]
  },
  {
   "cell_type": "code",
   "execution_count": null,
   "metadata": {},
   "outputs": [],
   "source": []
  }
 ],
 "metadata": {
  "kernelspec": {
   "display_name": "Python 3 (ipykernel)",
   "language": "python",
   "name": "python3"
  },
  "language_info": {
   "codemirror_mode": {
    "name": "ipython",
    "version": 3
   },
   "file_extension": ".py",
   "mimetype": "text/x-python",
   "name": "python",
   "nbconvert_exporter": "python",
   "pygments_lexer": "ipython3",
   "version": "3.11.4"
  }
 },
 "nbformat": 4,
 "nbformat_minor": 4
}
